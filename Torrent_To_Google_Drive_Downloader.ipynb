{
  "nbformat": 4,
  "nbformat_minor": 0,
  "metadata": {
    "colab": {
      "name": "Copy of Torrent To Google Drive Downloader",
      "provenance": [],
      "collapsed_sections": [],
      "toc_visible": true,
      "include_colab_link": true
    },
    "kernelspec": {
      "display_name": "Python 3",
      "language": "python",
      "name": "python3"
    },
    "widgets": {
      "application/vnd.jupyter.widget-state+json": {
        "4dc41f41e8354b31ba60f3a2231378e1": {
          "model_module": "@jupyter-widgets/controls",
          "model_name": "FloatSliderModel",
          "state": {
            "_view_name": "FloatSliderView",
            "style": "IPY_MODEL_e3818204967441d59a03792c7e87afd6",
            "_dom_classes": [],
            "description": "Monster.Hunter.2021.1080p.BluRay.x265.HEVC-HDETG.com 1376.76 kB/s downloading",
            "step": 0.01,
            "_model_name": "FloatSliderModel",
            "orientation": "horizontal",
            "max": 100,
            "_view_module": "@jupyter-widgets/controls",
            "_model_module_version": "1.5.0",
            "value": 99.99889731407166,
            "_view_count": null,
            "disabled": true,
            "_view_module_version": "1.5.0",
            "min": 0,
            "continuous_update": true,
            "readout_format": ".2f",
            "description_tooltip": null,
            "readout": true,
            "_model_module": "@jupyter-widgets/controls",
            "layout": "IPY_MODEL_481b34abb1da4219846e46a305a34c09"
          }
        },
        "e3818204967441d59a03792c7e87afd6": {
          "model_module": "@jupyter-widgets/controls",
          "model_name": "SliderStyleModel",
          "state": {
            "_view_name": "StyleView",
            "handle_color": null,
            "_model_name": "SliderStyleModel",
            "description_width": "initial",
            "_view_module": "@jupyter-widgets/base",
            "_model_module_version": "1.5.0",
            "_view_count": null,
            "_view_module_version": "1.2.0",
            "_model_module": "@jupyter-widgets/controls"
          }
        },
        "481b34abb1da4219846e46a305a34c09": {
          "model_module": "@jupyter-widgets/base",
          "model_name": "LayoutModel",
          "state": {
            "_view_name": "LayoutView",
            "grid_template_rows": null,
            "right": null,
            "justify_content": null,
            "_view_module": "@jupyter-widgets/base",
            "overflow": null,
            "_model_module_version": "1.2.0",
            "_view_count": null,
            "flex_flow": null,
            "width": "auto",
            "min_width": null,
            "border": null,
            "align_items": null,
            "bottom": null,
            "_model_module": "@jupyter-widgets/base",
            "top": null,
            "grid_column": null,
            "overflow_y": null,
            "overflow_x": null,
            "grid_auto_flow": null,
            "grid_area": null,
            "grid_template_columns": null,
            "flex": null,
            "_model_name": "LayoutModel",
            "justify_items": null,
            "grid_row": null,
            "max_height": null,
            "align_content": null,
            "visibility": null,
            "align_self": null,
            "height": null,
            "min_height": null,
            "padding": null,
            "grid_auto_rows": null,
            "grid_gap": null,
            "max_width": null,
            "order": null,
            "_view_module_version": "1.2.0",
            "grid_template_areas": null,
            "object_position": null,
            "object_fit": null,
            "grid_auto_columns": null,
            "margin": null,
            "display": null,
            "left": null
          }
        },
        "70182ac21a0547bd91f286c8bee104a9": {
          "model_module": "@jupyter-widgets/controls",
          "model_name": "FloatSliderModel",
          "state": {
            "_view_name": "FloatSliderView",
            "style": "IPY_MODEL_483b12aad6bb499d91f2cb417952f3c3",
            "_dom_classes": [],
            "description": "Betting On Zero (2016) [720p] [WEBRip] [YTS.MX] 2377.191 kB/s downloading",
            "step": 0.01,
            "_model_name": "FloatSliderModel",
            "orientation": "horizontal",
            "max": 100,
            "_view_module": "@jupyter-widgets/controls",
            "_model_module_version": "1.5.0",
            "value": 99.99060034751892,
            "_view_count": null,
            "disabled": true,
            "_view_module_version": "1.5.0",
            "min": 0,
            "continuous_update": true,
            "readout_format": ".2f",
            "description_tooltip": null,
            "readout": true,
            "_model_module": "@jupyter-widgets/controls",
            "layout": "IPY_MODEL_481b34abb1da4219846e46a305a34c09"
          }
        },
        "483b12aad6bb499d91f2cb417952f3c3": {
          "model_module": "@jupyter-widgets/controls",
          "model_name": "SliderStyleModel",
          "state": {
            "_view_name": "StyleView",
            "handle_color": null,
            "_model_name": "SliderStyleModel",
            "description_width": "initial",
            "_view_module": "@jupyter-widgets/base",
            "_model_module_version": "1.5.0",
            "_view_count": null,
            "_view_module_version": "1.2.0",
            "_model_module": "@jupyter-widgets/controls"
          }
        }
      }
    },
    "accelerator": "GPU"
  },
  "cells": [
    {
      "cell_type": "markdown",
      "metadata": {
        "id": "view-in-github",
        "colab_type": "text"
      },
      "source": [
        "<a href=\"https://colab.research.google.com/github/Hardly-Human/transfer-notebooks/blob/main/Torrent_To_Google_Drive_Downloader.ipynb\" target=\"_parent\"><img src=\"https://colab.research.google.com/assets/colab-badge.svg\" alt=\"Open In Colab\"/></a>"
      ]
    },
    {
      "cell_type": "markdown",
      "metadata": {
        "id": "aQuWDmfm9YOi"
      },
      "source": [
        "# Torrent To Google Drive Downloader "
      ]
    },
    {
      "cell_type": "markdown",
      "metadata": {
        "id": "qYk44mBwJf6E"
      },
      "source": [
        "**Important Note:** To get more disk space:\n",
        "> Go to Runtime -> Change Runtime and give GPU as the Hardware Accelerator.  You will get around 384GB to download any torrent you want."
      ]
    },
    {
      "cell_type": "markdown",
      "metadata": {
        "id": "NaFa7M-e9YOr"
      },
      "source": [
        "### Install libtorrent and Initialize Session"
      ]
    },
    {
      "cell_type": "code",
      "metadata": {
        "id": "m6hF0emftx4h",
        "colab": {
          "base_uri": "https://localhost:8080/"
        },
        "outputId": "bd5864db-9604-4666-8d22-1fb11d320c58"
      },
      "source": [
        "! python -m pip install --upgrade pip setuptools\n",
        "! python -m pip install lbry-libtorrent\n",
        "\n",
        "import libtorrent as lt\n",
        "\n",
        "ses = lt.session()\n",
        "ses.listen_on(6881, 6891)\n",
        "downloads = []"
      ],
      "execution_count": null,
      "outputs": [
        {
          "output_type": "stream",
          "text": [
            "Requirement already satisfied: pip in /usr/local/lib/python3.7/dist-packages (21.0.1)\n",
            "Requirement already satisfied: setuptools in /usr/local/lib/python3.7/dist-packages (53.1.0)\n",
            "Requirement already satisfied: lbry-libtorrent in /usr/local/lib/python3.7/dist-packages (1.2.4)\n"
          ],
          "name": "stdout"
        }
      ]
    },
    {
      "cell_type": "markdown",
      "metadata": {
        "id": "Uf90U73y9YOj"
      },
      "source": [
        "### Mount Google Drive\n",
        "To stream files we need to mount Google Drive."
      ]
    },
    {
      "cell_type": "code",
      "metadata": {
        "id": "oWM9l2fvtuvO",
        "colab": {
          "base_uri": "https://localhost:8080/"
        },
        "outputId": "d263dfa9-7647-42c8-f871-f1142311f716"
      },
      "source": [
        "from google.colab import drive\n",
        "\n",
        "drive.mount(\"/content/drive\")"
      ],
      "execution_count": null,
      "outputs": [
        {
          "output_type": "stream",
          "text": [
            "Drive already mounted at /content/drive; to attempt to forcibly remount, call drive.mount(\"/content/drive\", force_remount=True).\n"
          ],
          "name": "stdout"
        }
      ]
    },
    {
      "cell_type": "markdown",
      "metadata": {
        "id": "R_1XuuIf9YOn"
      },
      "source": [
        "### Add From Torrent File\n",
        "You can run this cell to add more files as many times as you want"
      ]
    },
    {
      "cell_type": "code",
      "metadata": {
        "id": "0et2A6N3udA0",
        "colab": {
          "resources": {
            "http://localhost:8080/nbextensions/google.colab/files.js": {
              "data": "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",
              "ok": true,
              "headers": [
                [
                  "content-type",
                  "application/javascript"
                ]
              ],
              "status": 200,
              "status_text": ""
            }
          },
          "base_uri": "https://localhost:8080/",
          "height": 109
        },
        "outputId": "b4461f5f-047c-4c21-96f6-5e0ecd15eefe"
      },
      "source": [
        "from google.colab import files\n",
        "\n",
        "source = files.upload()\n",
        "params = {\n",
        "    \"save_path\": \"/content/drive/MyDrive/Torrent\",\n",
        "    \"ti\": lt.torrent_info(list(source.keys())[0]),\n",
        "}\n",
        "downloads.append(ses.add_torrent(params))"
      ],
      "execution_count": null,
      "outputs": [
        {
          "output_type": "display_data",
          "data": {
            "text/html": [
              "\n",
              "     <input type=\"file\" id=\"files-aba7e9e4-c527-4643-a9d7-9ca199cefbca\" name=\"files[]\" multiple disabled\n",
              "        style=\"border:none\" />\n",
              "     <output id=\"result-aba7e9e4-c527-4643-a9d7-9ca199cefbca\">\n",
              "      Upload widget is only available when the cell has been executed in the\n",
              "      current browser session. Please rerun this cell to enable.\n",
              "      </output>\n",
              "      <script src=\"/nbextensions/google.colab/files.js\"></script> "
            ],
            "text/plain": [
              "<IPython.core.display.HTML object>"
            ]
          },
          "metadata": {
            "tags": []
          }
        },
        {
          "output_type": "stream",
          "text": [
            "Saving FreeCoursesOnline.Me-MASTERCLASS-HOWARD-SCHULTZBUSINESS-LEADERSHIP.torrent to FreeCoursesOnline.Me-MASTERCLASS-HOWARD-SCHULTZBUSINESS-LEADERSHIP.torrent\n"
          ],
          "name": "stdout"
        }
      ]
    },
    {
      "cell_type": "markdown",
      "metadata": {
        "id": "WD-6M6eZyzmj"
      },
      "source": [
        "### Add From Magnet Link\n",
        "You can run this cell to add more files as many times as you want"
      ]
    },
    {
      "cell_type": "code",
      "metadata": {
        "id": "Cwi1GMlxy3te",
        "colab": {
          "base_uri": "https://localhost:8080/"
        },
        "outputId": "5dcea297-55aa-45d1-e4ff-adf34decfb87"
      },
      "source": [
        "params = {\"save_path\": \"/content/drive/My Drive/Torrent\"}\n",
        "\n",
        "while True:\n",
        "    magnet_link = input(\"Enter Magnet Link Or Type Exit: \")\n",
        "    if magnet_link.lower() == \"exit\":\n",
        "        break\n",
        "    downloads.append(\n",
        "        lt.add_magnet_uri(ses, magnet_link, params)\n",
        "    )\n"
      ],
      "execution_count": null,
      "outputs": [
        {
          "output_type": "stream",
          "text": [
            "Enter Magnet Link Or Type Exit: magnet:?xt=urn:btih:5312e003bf48910f5cb260918fd13ed5bb325281&dn=Betting+On+Zero+%282016%29+%5B720p%5D+%5BWEBRip%5D+%5BYTS.MX%5D&xl=1003379935&tr=udp://tracker.opentrackr.org:1337/announce&tr=udp://tracker.leechers-paradise.org:6969/announce&tr=udp://9.rarbg.to:2710/announce&tr=udp://p4p.arenabg.ch:1337/announce&tr=udp://tracker.cyberia.is:6969/announce&tr=http://p4p.arenabg.com:1337/announce&tr=udp://tracker.internetwarriors.net:1337/announce&tr=udp://tracker.internetwarriors.net:1337/announce&tr=udp://tracker.leechers-paradise.org:6969/announce&tr=udp://tracker.coppersurfer.tk:6969/announce&tr=udp://tracker.pirateparty.gr:6969/announce&tr=udp://tracker.cyberia.is:6969/announce&tr=udp://open.demonii.si:1337/announce&tr=udp://open.stealth.si/announce&tr=udp://exodus.desync.com:6969/announce&tr=http://explodie.org:6969/announce&tr=https://tracker.cyber-hub.net/announce&tr=udp://9.rarbg.me:2740/announce&tr=udp://9.rarbg.to:2790/announce\n",
            "Enter Magnet Link Or Type Exit: exit\n"
          ],
          "name": "stdout"
        }
      ]
    },
    {
      "cell_type": "markdown",
      "metadata": {
        "id": "m-a1CUP39YOu"
      },
      "source": [
        "### Start Download\n",
        "Source: https://stackoverflow.com/a/5494823/7957705 and [#3 issue](https://github.com/FKLC/Torrent-To-Google-Drive-Downloader/issues/3) which refers to this [stackoverflow question](https://stackoverflow.com/a/6053350/7957705)"
      ]
    },
    {
      "cell_type": "code",
      "metadata": {
        "id": "DBNoYYoSuDBT",
        "colab": {
          "base_uri": "https://localhost:8080/",
          "height": 51,
          "referenced_widgets": [
            "4dc41f41e8354b31ba60f3a2231378e1",
            "e3818204967441d59a03792c7e87afd6",
            "481b34abb1da4219846e46a305a34c09",
            "70182ac21a0547bd91f286c8bee104a9",
            "483b12aad6bb499d91f2cb417952f3c3"
          ]
        },
        "outputId": "ce1a7566-9a65-49e8-d25d-f83faa897068"
      },
      "source": [
        "import time\n",
        "from IPython.display import display\n",
        "import ipywidgets as widgets\n",
        "\n",
        "state_str = [\n",
        "    \"queued\",\n",
        "    \"checking\",\n",
        "    \"downloading metadata\",\n",
        "    \"downloading\",\n",
        "    \"finished\",\n",
        "    \"seeding\",\n",
        "    \"allocating\",\n",
        "    \"checking fastresume\",\n",
        "]\n",
        "\n",
        "layout = widgets.Layout(width=\"auto\")\n",
        "style = {\"description_width\": \"initial\"}\n",
        "download_bars = [\n",
        "    widgets.FloatSlider(\n",
        "        step=0.01, disabled=True, layout=layout, style=style\n",
        "    )\n",
        "    for _ in downloads\n",
        "]\n",
        "display(*download_bars)\n",
        "\n",
        "while downloads:\n",
        "    next_shift = 0\n",
        "    for index, download in enumerate(downloads[:]):\n",
        "        bar = download_bars[index + next_shift]\n",
        "        if not download.is_seed():\n",
        "            s = download.status()\n",
        "\n",
        "            bar.description = \" \".join(\n",
        "                [\n",
        "                    download.name(),\n",
        "                    str(s.download_rate / 1000),\n",
        "                    \"kB/s\",\n",
        "                    state_str[s.state],\n",
        "                ]\n",
        "            )\n",
        "            bar.value = s.progress * 100\n",
        "        else:\n",
        "            next_shift -= 1\n",
        "            ses.remove_torrent(download)\n",
        "            downloads.remove(download)\n",
        "            bar.close() # Seems to be not working in Colab (see https://github.com/googlecolab/colabtools/issues/726#issue-486731758)\n",
        "            download_bars.remove(bar)\n",
        "            print(download.name(), \"complete\")\n",
        "    time.sleep(1)\n"
      ],
      "execution_count": null,
      "outputs": [
        {
          "output_type": "display_data",
          "data": {
            "application/vnd.jupyter.widget-view+json": {
              "model_id": "4dc41f41e8354b31ba60f3a2231378e1",
              "version_minor": 0,
              "version_major": 2
            },
            "text/plain": [
              "FloatSlider(value=0.0, disabled=True, layout=Layout(width='auto'), step=0.01, style=SliderStyle(description_wi…"
            ]
          },
          "metadata": {
            "tags": []
          }
        },
        {
          "output_type": "display_data",
          "data": {
            "application/vnd.jupyter.widget-view+json": {
              "model_id": "70182ac21a0547bd91f286c8bee104a9",
              "version_minor": 0,
              "version_major": 2
            },
            "text/plain": [
              "FloatSlider(value=0.0, disabled=True, layout=Layout(width='auto'), step=0.01, style=SliderStyle(description_wi…"
            ]
          },
          "metadata": {
            "tags": []
          }
        },
        {
          "output_type": "stream",
          "text": [
            "Monster.Hunter.2021.1080p.BluRay.x265.HEVC-HDETG.com complete\n",
            "Betting On Zero (2016) [720p] [WEBRip] [YTS.MX] complete\n"
          ],
          "name": "stdout"
        }
      ]
    },
    {
      "cell_type": "code",
      "metadata": {
        "colab": {
          "base_uri": "https://localhost:8080/",
          "height": 35
        },
        "id": "25AIrAh-ZwT_",
        "outputId": "c2331b70-f1b8-4492-b957-56e3cda058f8"
      },
      "source": [
        "import shutil\r\n",
        "shutil.make_archive('MASTERCLASS-HOWARD-SCHULTZBUSINESS-LEADERSHIP', 'zip', '/content/drive/MyDrive/Torrent/[FreeCoursesOnline.Me] MASTERCLASS - HOWARD SCHULTZBUSINESS LEADERSHIP')"
      ],
      "execution_count": null,
      "outputs": [
        {
          "output_type": "execute_result",
          "data": {
            "application/vnd.google.colaboratory.intrinsic+json": {
              "type": "string"
            },
            "text/plain": [
              "'/content/MASTERCLASS-HOWARD-SCHULTZBUSINESS-LEADERSHIP.zip'"
            ]
          },
          "metadata": {
            "tags": []
          },
          "execution_count": 5
        }
      ]
    },
    {
      "cell_type": "code",
      "metadata": {
        "id": "0V5NDtUlcONV"
      },
      "source": [
        "! cp \"/content/MASTERCLASS-HOWARD-SCHULTZBUSINESS-LEADERSHIP.zip\" \"/content/drive/MyDrive/Torrent\""
      ],
      "execution_count": null,
      "outputs": []
    },
    {
      "cell_type": "markdown",
      "metadata": {
        "id": "XZvXvX_JXhhm"
      },
      "source": [
        "# Mounting Onedrive"
      ]
    },
    {
      "cell_type": "code",
      "metadata": {
        "colab": {
          "base_uri": "https://localhost:8080/"
        },
        "id": "8mPYA6zzXfPP",
        "outputId": "cc0c7867-ee5d-430a-a027-39d474e1f098"
      },
      "source": [
        "!wget https://downloads.rclone.org/v1.54.0/rclone-v1.54.0-linux-amd64.deb\n",
        "!apt install ./rclone-v1.54.0-linux-amd64.deb"
      ],
      "execution_count": null,
      "outputs": [
        {
          "output_type": "stream",
          "text": [
            "--2021-02-27 02:47:09--  https://downloads.rclone.org/v1.54.0/rclone-v1.54.0-linux-amd64.deb\n",
            "Resolving downloads.rclone.org (downloads.rclone.org)... 5.153.250.7, 2a02:24e0:8:61f9::1\n",
            "Connecting to downloads.rclone.org (downloads.rclone.org)|5.153.250.7|:443... connected.\n",
            "HTTP request sent, awaiting response... 200 OK\n",
            "Length: 14296226 (14M) [application/x-debian-package]\n",
            "Saving to: ‘rclone-v1.54.0-linux-amd64.deb’\n",
            "\n",
            "rclone-v1.54.0-linu 100%[===================>]  13.63M  9.00MB/s    in 1.5s    \n",
            "\n",
            "2021-02-27 02:47:12 (9.00 MB/s) - ‘rclone-v1.54.0-linux-amd64.deb’ saved [14296226/14296226]\n",
            "\n",
            "Reading package lists... Done\n",
            "Building dependency tree       \n",
            "Reading state information... Done\n",
            "Note, selecting 'rclone' instead of './rclone-v1.54.0-linux-amd64.deb'\n",
            "The following NEW packages will be installed:\n",
            "  rclone\n",
            "0 upgraded, 1 newly installed, 0 to remove and 13 not upgraded.\n",
            "Need to get 0 B/14.3 MB of archives.\n",
            "After this operation, 44.9 MB of additional disk space will be used.\n",
            "Get:1 /content/rclone-v1.54.0-linux-amd64.deb rclone amd64 1.54.0 [14.3 MB]\n",
            "Selecting previously unselected package rclone.\n",
            "(Reading database ... 149406 files and directories currently installed.)\n",
            "Preparing to unpack .../rclone-v1.54.0-linux-amd64.deb ...\n",
            "Unpacking rclone (1.54.0) ...\n",
            "Setting up rclone (1.54.0) ...\n",
            "Processing triggers for man-db (2.8.3-2ubuntu0.1) ...\n"
          ],
          "name": "stdout"
        }
      ]
    },
    {
      "cell_type": "markdown",
      "metadata": {
        "id": "u6b8Q4EjIowT"
      },
      "source": [
        "### 2. Authenticate One Drive"
      ]
    },
    {
      "cell_type": "code",
      "metadata": {
        "id": "dT1VHtxSIu8g",
        "colab": {
          "base_uri": "https://localhost:8080/"
        },
        "outputId": "5a463a0e-954e-46c1-811d-cc4e4c8e27a0"
      },
      "source": [
        "!rclone config"
      ],
      "execution_count": null,
      "outputs": [
        {
          "output_type": "stream",
          "text": [
            "2021/02/27 02:47:26 NOTICE: Config file \"/root/.config/rclone/rclone.conf\" not found - using defaults\n",
            "No remotes found - make a new one\n",
            "n) New remote\n",
            "s) Set configuration password\n",
            "q) Quit config\n",
            "n/s/q> n\n",
            "name> onedrive\n",
            "Type of storage to configure.\n",
            "Enter a string value. Press Enter for the default (\"\").\n",
            "Choose a number from below, or type in your own value\n",
            "\u001b[91m 1 / 1Fichier\n",
            "   \\ \"fichier\"\n",
            "\u001b[0m\u001b[92m 2 / Alias for an existing remote\n",
            "   \\ \"alias\"\n",
            "\u001b[0m\u001b[91m 3 / Amazon Drive\n",
            "   \\ \"amazon cloud drive\"\n",
            "\u001b[0m\u001b[92m 4 / Amazon S3 Compliant Storage Providers including AWS, Alibaba, Ceph, Digital Ocean, Dreamhost, IBM COS, Minio, and Tencent COS\n",
            "   \\ \"s3\"\n",
            "\u001b[0m\u001b[91m 5 / Backblaze B2\n",
            "   \\ \"b2\"\n",
            "\u001b[0m\u001b[92m 6 / Box\n",
            "   \\ \"box\"\n",
            "\u001b[0m\u001b[91m 7 / Cache a remote\n",
            "   \\ \"cache\"\n",
            "\u001b[0m\u001b[92m 8 / Citrix Sharefile\n",
            "   \\ \"sharefile\"\n",
            "\u001b[0m\u001b[91m 9 / Compress a remote\n",
            "   \\ \"compress\"\n",
            "\u001b[0m\u001b[92m10 / Dropbox\n",
            "   \\ \"dropbox\"\n",
            "\u001b[0m\u001b[91m11 / Encrypt/Decrypt a remote\n",
            "   \\ \"crypt\"\n",
            "\u001b[0m\u001b[92m12 / Enterprise File Fabric\n",
            "   \\ \"filefabric\"\n",
            "\u001b[0m\u001b[91m13 / FTP Connection\n",
            "   \\ \"ftp\"\n",
            "\u001b[0m\u001b[92m14 / Google Cloud Storage (this is not Google Drive)\n",
            "   \\ \"google cloud storage\"\n",
            "\u001b[0m\u001b[91m15 / Google Drive\n",
            "   \\ \"drive\"\n",
            "\u001b[0m\u001b[92m16 / Google Photos\n",
            "   \\ \"google photos\"\n",
            "\u001b[0m\u001b[91m17 / Hadoop distributed file system\n",
            "   \\ \"hdfs\"\n",
            "\u001b[0m\u001b[92m18 / Hubic\n",
            "   \\ \"hubic\"\n",
            "\u001b[0m\u001b[91m19 / In memory object storage system.\n",
            "   \\ \"memory\"\n",
            "\u001b[0m\u001b[92m20 / Jottacloud\n",
            "   \\ \"jottacloud\"\n",
            "\u001b[0m\u001b[91m21 / Koofr\n",
            "   \\ \"koofr\"\n",
            "\u001b[0m\u001b[92m22 / Local Disk\n",
            "   \\ \"local\"\n",
            "\u001b[0m\u001b[91m23 / Mail.ru Cloud\n",
            "   \\ \"mailru\"\n",
            "\u001b[0m\u001b[92m24 / Mega\n",
            "   \\ \"mega\"\n",
            "\u001b[0m\u001b[91m25 / Microsoft Azure Blob Storage\n",
            "   \\ \"azureblob\"\n",
            "\u001b[0m\u001b[92m26 / Microsoft OneDrive\n",
            "   \\ \"onedrive\"\n",
            "\u001b[0m\u001b[91m27 / OpenDrive\n",
            "   \\ \"opendrive\"\n",
            "\u001b[0m\u001b[92m28 / OpenStack Swift (Rackspace Cloud Files, Memset Memstore, OVH)\n",
            "   \\ \"swift\"\n",
            "\u001b[0m\u001b[91m29 / Pcloud\n",
            "   \\ \"pcloud\"\n",
            "\u001b[0m\u001b[92m30 / Put.io\n",
            "   \\ \"putio\"\n",
            "\u001b[0m\u001b[91m31 / QingCloud Object Storage\n",
            "   \\ \"qingstor\"\n",
            "\u001b[0m\u001b[92m32 / SSH/SFTP Connection\n",
            "   \\ \"sftp\"\n",
            "\u001b[0m\u001b[91m33 / Sugarsync\n",
            "   \\ \"sugarsync\"\n",
            "\u001b[0m\u001b[92m34 / Tardigrade Decentralized Cloud Storage\n",
            "   \\ \"tardigrade\"\n",
            "\u001b[0m\u001b[91m35 / Transparently chunk/split large files\n",
            "   \\ \"chunker\"\n",
            "\u001b[0m\u001b[92m36 / Union merges the contents of several upstream fs\n",
            "   \\ \"union\"\n",
            "\u001b[0m\u001b[91m37 / Webdav\n",
            "   \\ \"webdav\"\n",
            "\u001b[0m\u001b[92m38 / Yandex Disk\n",
            "   \\ \"yandex\"\n",
            "\u001b[0m\u001b[91m39 / Zoho\n",
            "   \\ \"zoho\"\n",
            "\u001b[0m\u001b[92m40 / http Connection\n",
            "   \\ \"http\"\n",
            "\u001b[0m\u001b[91m41 / premiumize.me\n",
            "   \\ \"premiumizeme\"\n",
            "\u001b[0m\u001b[92m42 / seafile\n",
            "   \\ \"seafile\"\n",
            "\u001b[0mStorage> 26\n",
            "** See help for onedrive backend at: https://rclone.org/onedrive/ **\n",
            "\n",
            "OAuth Client Id\n",
            "Leave blank normally.\n",
            "Enter a string value. Press Enter for the default (\"\").\n",
            "client_id> \n",
            "OAuth Client Secret\n",
            "Leave blank normally.\n",
            "Enter a string value. Press Enter for the default (\"\").\n",
            "client_secret> \n",
            "Choose national cloud region for OneDrive.\n",
            "Enter a string value. Press Enter for the default (\"global\").\n",
            "Choose a number from below, or type in your own value\n",
            "\u001b[91m 1 / Microsoft Cloud Global\n",
            "   \\ \"global\"\n",
            "\u001b[0m\u001b[92m 2 / Microsoft Cloud for US Government\n",
            "   \\ \"us\"\n",
            "\u001b[0m\u001b[91m 3 / Microsoft Cloud Germany\n",
            "   \\ \"de\"\n",
            "\u001b[0m\u001b[92m 4 / Azure and Office 365 operated by 21Vianet in China\n",
            "   \\ \"cn\"\n",
            "\u001b[0mregion> 1\n",
            "Edit advanced config? (y/n)\n",
            "y) Yes\n",
            "n) No (default)\n",
            "y/n> n\n",
            "Remote config\n",
            "Use auto config?\n",
            " * Say Y if not sure\n",
            " * Say N if you are working on a remote or headless machine\n",
            "y) Yes (default)\n",
            "n) No\n",
            "y/n> n\n",
            "For this to work, you will need rclone available on a machine that has\n",
            "a web browser available.\n",
            "\n",
            "For more help and alternate methods see: https://rclone.org/remote_setup/\n",
            "\n",
            "Execute the following on the machine with the web browser (same rclone\n",
            "version recommended):\n",
            "\n",
            "\trclone authorize \"onedrive\"\n",
            "\n",
            "Then paste the result below:\n",
            "result> {\"access_token\":\"eyJ0eXAiOiJKV1QiLCJub25jZSI6InQ5bWc3ck9Bem1IV05WT09sMDU5WUdCU0E3WTg1cFl2dno4OHNDdnZaQnciLCJhbGciOiJSUzI1NiIsIng1dCI6Im5PbzNaRHJPRFhFSzFqS1doWHNsSFJfS1hFZyIsImtpZCI6Im5PbzNaRHJPRFhFSzFqS1doWHNsSFJfS1hFZyJ9.eyJhdWQiOiIwMDAwMDAwMy0wMDAwLTAwMDAtYzAwMC0wMDAwMDAwMDAwMDAiLCJpc3MiOiJodHRwczovL3N0cy53aW5kb3dzLm5ldC9lMTRlNzNlYi01MjUxLTQzODgtOGQ2Ny04ZjlmMmUyZDVhNDYvIiwiaWF0IjoxNjE0MzkzNzM1LCJuYmYiOjE2MTQzOTM3MzUsImV4cCI6MTYxNDM5NzYzNSwiYWNjdCI6MCwiYWNyIjoiMSIsImFjcnMiOlsidXJuOnVzZXI6cmVnaXN0ZXJzZWN1cml0eWluZm8iLCJ1cm46bWljcm9zb2Z0OnJlcTEiLCJ1cm46bWljcm9zb2Z0OnJlcTIiLCJ1cm46bWljcm9zb2Z0OnJlcTMiLCJjMSIsImMyIiwiYzMiLCJjNCIsImM1IiwiYzYiLCJjNyIsImM4IiwiYzkiLCJjMTAiLCJjMTEiLCJjMTIiLCJjMTMiLCJjMTQiLCJjMTUiLCJjMTYiLCJjMTciLCJjMTgiLCJjMTkiLCJjMjAiLCJjMjEiLCJjMjIiLCJjMjMiLCJjMjQiLCJjMjUiXSwiYWlvIjoiRTJaZ1lOaFJaMkM1Nm16RTljbUt4MzFtWE5ySGUwczcxaldCVSt0TWx1YVVITDJtVzEwQSIsImFtciI6WyJwd2QiXSwiYXBwX2Rpc3BsYXluYW1lIjoicmNsb25lIiwiYXBwaWQiOiJiMTU2NjVkOS1lZGE2LTQwOTItODUzOS0wZWVjMzc2YWZkNTkiLCJhcHBpZGFjciI6IjEiLCJmYW1pbHlfbmFtZSI6IjExNzAxOTIwIiwiZ2l2ZW5fbmFtZSI6IlNoYWlrIFJlaGFudWRkaW4iLCJpZHR5cCI6InVzZXIiLCJpcGFkZHIiOiIxMDYuNjYuNDUuMTg5IiwibmFtZSI6IlNoYWlrIFJlaGFudWRkaW4iLCJvaWQiOiI5ZjYxZWMzMS1hNzg5LTRkYWMtYTFlYi1jNGY2OTYzNWQ4NWUiLCJwbGF0ZiI6IjMiLCJwdWlkIjoiMTAwM0JGRkRBRTRDNDg3OCIsInJoIjoiMC5BQUFBNjNOTzRWRlNpRU9OWjQtZkxpMWFSdGxsVnJHbTdaSkFoVGtPN0RkcV9WazlBTjQuIiwic2NwIjoiRmlsZXMuUmVhZCBGaWxlcy5SZWFkLkFsbCBGaWxlcy5SZWFkV3JpdGUgRmlsZXMuUmVhZFdyaXRlLkFsbCBTaXRlcy5SZWFkLkFsbCBwcm9maWxlIG9wZW5pZCBlbWFpbCIsInNpZ25pbl9zdGF0ZSI6WyJrbXNpIl0sInN1YiI6IjlILXlKZ1R4YVBMQ1hsdXA0SU43RzUyX2twX281Vlc1TXBlWDFSMjZqUzgiLCJ0ZW5hbnRfcmVnaW9uX3Njb3BlIjoiQVMiLCJ0aWQiOiJlMTRlNzNlYi01MjUxLTQzODgtOGQ2Ny04ZjlmMmUyZDVhNDYiLCJ1bmlxdWVfbmFtZSI6InNoYWlrLjExNzAxOTIwQGxwdS5pbiIsInVwbiI6InNoYWlrLjExNzAxOTIwQGxwdS5pbiIsInV0aSI6InlUM0FmVmY3WFVpUEZtQjdXODhiQUEiLCJ2ZXIiOiIxLjAiLCJ3aWRzIjpbImI3OWZiZjRkLTNlZjktNDY4OS04MTQzLTc2YjE5NGU4NTUwOSJdLCJ4bXNfc3QiOnsic3ViIjoiQnlVbmdYLTNaVGRsYkI0MHMyd3lhZDM3OXJjeGItOVcwVnNTTmpNSTg4dyJ9LCJ4bXNfdGNkdCI6MTM2MDczMDg5MH0.cW10eMFcoRUnAkbvMRu_tEU7pQRhsrsYbQlg33dvMNtlsbOj3NbP7uyN8EIOh0mc2vpJTPEiPcar-eMO_PbR5dj9E-nPKU-hkG83MYuqcY-EVUu7_61qamNrcx4_X6hOp0SI-ZGqP3fdMiaIvAYS-XsQnMfAYNyKRJz8HkcEOusKWD9In65NoAn5G39ijoIWtRhru0RLNb_iug9pdlu8X4J3pnC_VKjmQnPS0gC9K6zfuVfJR6VarT9j42kG3Hi-ooiukVgcMTOBpj6KJNSNfU2SJHw3Azev7m3tjmoIqfhM9s6vVXmYKK2MRLcrUcavH_sF2ta1kaRd8LE7Hc3__Q\",\"token_type\":\"Bearer\",\"refresh_token\":\"0.AAAA63NO4VFSiEONZ4-fLi1aRtllVrGm7ZJAhTkO7Ddq_Vk9AN4.AgABAAAAAAD--DLA3VO7QrddgJg7WevrAgDs_wQA9P-7EPTBj5IyLqFnugeO8YOAHOtF0PfRh_RNyG4uKPqxglPxqkG2PpCDotgBMwbcfsfaTR36WX7V4cqqb9DPO6zUm4CC3leqAzX8yyEZgzNZZq9N3i7oCrIqEnJrWK_bqcjcZzbpeProrHTIQB30ggXqLmbIuBMKK0Cbwg7_xukUZdVtY0f4KUPEUmm2zMPVGW_eQ_t7BKo20jGriEoWIL79GcaW37y-gy4jQqLBrfL2ndKl8Jc_Gdg3SFaJMDcgNN-bvj7y5E5BsbELutHHLM0kSvrP5Uac9gF0D0nMZXQozYAOgoKcxXRGJxs1ZCg6YTl4XBPQoXmHj5sxsScQeL7QNr-vzPejfxrMY3iCbG8P9Dp8gv5hDCe1J1Zjm7JmvD9_5Fd8D9brMYJMrj-qtJ8BZoJDlBeHEK27uT6yEGsHbBD0_rcPoRfvEbi9HgCnsobsbf1P_wT1HpOh1KpJy9wEohBPALK83C3uAA7VZbkJddLtNnn7W4-TxHQf3y3m1nORn0gNOtXDr-nKSa61PbePOBizxgsxKdTicsnpVpvKv_OUXnprYA16WCCEr9PTn3Wop8uYWWW4QRvH2kvCOlPI4Drc-T2qpabNj7XqHSFTR9GG-WEFDHHNAmRYgGMTJQvqauh-F9beo5pk0qf0dj5QiKDHuxYBqIu96byfXWkiN20PQ4U_eDHznx5M7myQVJ8FN7t1RW90R4OH5-5kf5vRBT4a7JD09RToKcWK3h27U4KvKllGVtu_SLjw4i3xvvk3OLFFWMDVHHYPuEIzyXKGGRyGQ6pF472FXOGOxjTyJpsgD-Es5bYTrLPvOdh0Tbm1NCSEJ-YWHu7wGUbPObzmrSMOGCLsD4jmy4ajIUiLHcCp-oLrxG36ugrQ7VL9F_aFqgZl1EeVJk8HAX3f4a7aKy721z-NX_ThQvFA_gDEDfLtAhXvnS-Nhy0e6nONyeVWPnhFz3p4aPm8G-RvU2A\",\"expiry\":\"2021-02-27T09:17:15.5853639+05:30\"}\n",
            "Choose a number from below, or type in an existing value\n",
            "\u001b[91m 1 / OneDrive Personal or Business\n",
            "   \\ \"onedrive\"\n",
            "\u001b[0m\u001b[92m 2 / Root Sharepoint site\n",
            "   \\ \"sharepoint\"\n",
            "\u001b[0m\u001b[91m 3 / Sharepoint site name or URL (e.g. mysite or https://contoso.sharepoint.com/sites/mysite)\n",
            "   \\ \"url\"\n",
            "\u001b[0m\u001b[92m 4 / Search for a Sharepoint site\n",
            "   \\ \"search\"\n",
            "\u001b[0m\u001b[91m 5 / Type in driveID (advanced)\n",
            "   \\ \"driveid\"\n",
            "\u001b[0m\u001b[92m 6 / Type in SiteID (advanced)\n",
            "   \\ \"siteid\"\n",
            "\u001b[0m\u001b[91m 7 / Sharepoint server-relative path (advanced, e.g. /teams/hr)\n",
            "   \\ \"path\"\n",
            "\u001b[0mYour choice> 1\n",
            "Found 1 drives, please select the one you want to use:\n",
            "0: OneDrive (business) id=b!xkmxNTQvk02boKsnLBjKxFosZvQbZtBCgL0B34hPVyiHfGeNwOpCTIXwHQY9v522\n",
            "Chose drive to use:> 0\n",
            "Found drive 'root' of type 'business', URL: https://lpuin-my.sharepoint.com/personal/shaik_11701920_lpu_in/Documents\n",
            "Is that okay?\n",
            "y) Yes (default)\n",
            "n) No\n",
            "y/n> y\n",
            "--------------------\n",
            "[onedrive]\n",
            "type = onedrive\n",
            "region = global\n",
            "token = {\"access_token\":\"eyJ0eXAiOiJKV1QiLCJub25jZSI6InQ5bWc3ck9Bem1IV05WT09sMDU5WUdCU0E3WTg1cFl2dno4OHNDdnZaQnciLCJhbGciOiJSUzI1NiIsIng1dCI6Im5PbzNaRHJPRFhFSzFqS1doWHNsSFJfS1hFZyIsImtpZCI6Im5PbzNaRHJPRFhFSzFqS1doWHNsSFJfS1hFZyJ9.eyJhdWQiOiIwMDAwMDAwMy0wMDAwLTAwMDAtYzAwMC0wMDAwMDAwMDAwMDAiLCJpc3MiOiJodHRwczovL3N0cy53aW5kb3dzLm5ldC9lMTRlNzNlYi01MjUxLTQzODgtOGQ2Ny04ZjlmMmUyZDVhNDYvIiwiaWF0IjoxNjE0MzkzNzM1LCJuYmYiOjE2MTQzOTM3MzUsImV4cCI6MTYxNDM5NzYzNSwiYWNjdCI6MCwiYWNyIjoiMSIsImFjcnMiOlsidXJuOnVzZXI6cmVnaXN0ZXJzZWN1cml0eWluZm8iLCJ1cm46bWljcm9zb2Z0OnJlcTEiLCJ1cm46bWljcm9zb2Z0OnJlcTIiLCJ1cm46bWljcm9zb2Z0OnJlcTMiLCJjMSIsImMyIiwiYzMiLCJjNCIsImM1IiwiYzYiLCJjNyIsImM4IiwiYzkiLCJjMTAiLCJjMTEiLCJjMTIiLCJjMTMiLCJjMTQiLCJjMTUiLCJjMTYiLCJjMTciLCJjMTgiLCJjMTkiLCJjMjAiLCJjMjEiLCJjMjIiLCJjMjMiLCJjMjQiLCJjMjUiXSwiYWlvIjoiRTJaZ1lOaFJaMkM1Nm16RTljbUt4MzFtWE5ySGUwczcxaldCVSt0TWx1YVVITDJtVzEwQSIsImFtciI6WyJwd2QiXSwiYXBwX2Rpc3BsYXluYW1lIjoicmNsb25lIiwiYXBwaWQiOiJiMTU2NjVkOS1lZGE2LTQwOTItODUzOS0wZWVjMzc2YWZkNTkiLCJhcHBpZGFjciI6IjEiLCJmYW1pbHlfbmFtZSI6IjExNzAxOTIwIiwiZ2l2ZW5fbmFtZSI6IlNoYWlrIFJlaGFudWRkaW4iLCJpZHR5cCI6InVzZXIiLCJpcGFkZHIiOiIxMDYuNjYuNDUuMTg5IiwibmFtZSI6IlNoYWlrIFJlaGFudWRkaW4iLCJvaWQiOiI5ZjYxZWMzMS1hNzg5LTRkYWMtYTFlYi1jNGY2OTYzNWQ4NWUiLCJwbGF0ZiI6IjMiLCJwdWlkIjoiMTAwM0JGRkRBRTRDNDg3OCIsInJoIjoiMC5BQUFBNjNOTzRWRlNpRU9OWjQtZkxpMWFSdGxsVnJHbTdaSkFoVGtPN0RkcV9WazlBTjQuIiwic2NwIjoiRmlsZXMuUmVhZCBGaWxlcy5SZWFkLkFsbCBGaWxlcy5SZWFkV3JpdGUgRmlsZXMuUmVhZFdyaXRlLkFsbCBTaXRlcy5SZWFkLkFsbCBwcm9maWxlIG9wZW5pZCBlbWFpbCIsInNpZ25pbl9zdGF0ZSI6WyJrbXNpIl0sInN1YiI6IjlILXlKZ1R4YVBMQ1hsdXA0SU43RzUyX2twX281Vlc1TXBlWDFSMjZqUzgiLCJ0ZW5hbnRfcmVnaW9uX3Njb3BlIjoiQVMiLCJ0aWQiOiJlMTRlNzNlYi01MjUxLTQzODgtOGQ2Ny04ZjlmMmUyZDVhNDYiLCJ1bmlxdWVfbmFtZSI6InNoYWlrLjExNzAxOTIwQGxwdS5pbiIsInVwbiI6InNoYWlrLjExNzAxOTIwQGxwdS5pbiIsInV0aSI6InlUM0FmVmY3WFVpUEZtQjdXODhiQUEiLCJ2ZXIiOiIxLjAiLCJ3aWRzIjpbImI3OWZiZjRkLTNlZjktNDY4OS04MTQzLTc2YjE5NGU4NTUwOSJdLCJ4bXNfc3QiOnsic3ViIjoiQnlVbmdYLTNaVGRsYkI0MHMyd3lhZDM3OXJjeGItOVcwVnNTTmpNSTg4dyJ9LCJ4bXNfdGNkdCI6MTM2MDczMDg5MH0.cW10eMFcoRUnAkbvMRu_tEU7pQRhsrsYbQlg33dvMNtlsbOj3NbP7uyN8EIOh0mc2vpJTPEiPcar-eMO_PbR5dj9E-nPKU-hkG83MYuqcY-EVUu7_61qamNrcx4_X6hOp0SI-ZGqP3fdMiaIvAYS-XsQnMfAYNyKRJz8HkcEOusKWD9In65NoAn5G39ijoIWtRhru0RLNb_iug9pdlu8X4J3pnC_VKjmQnPS0gC9K6zfuVfJR6VarT9j42kG3Hi-ooiukVgcMTOBpj6KJNSNfU2SJHw3Azev7m3tjmoIqfhM9s6vVXmYKK2MRLcrUcavH_sF2ta1kaRd8LE7Hc3__Q\",\"token_type\":\"Bearer\",\"refresh_token\":\"0.AAAA63NO4VFSiEONZ4-fLi1aRtllVrGm7ZJAhTkO7Ddq_Vk9AN4.AgABAAAAAAD--DLA3VO7QrddgJg7WevrAgDs_wQA9P-7EPTBj5IyLqFnugeO8YOAHOtF0PfRh_RNyG4uKPqxglPxqkG2PpCDotgBMwbcfsfaTR36WX7V4cqqb9DPO6zUm4CC3leqAzX8yyEZgzNZZq9N3i7oCrIqEnJrWK_bqcjcZzbpeProrHTIQB30ggXqLmbIuBMKK0Cbwg7_xukUZdVtY0f4KUPEUmm2zMPVGW_eQ_t7BKo20jGriEoWIL79GcaW37y-gy4jQqLBrfL2ndKl8Jc_Gdg3SFaJMDcgNN-bvj7y5E5BsbELutHHLM0kSvrP5Uac9gF0D0nMZXQozYAOgoKcxXRGJxs1ZCg6YTl4XBPQoXmHj5sxsScQeL7QNr-vzPejfxrMY3iCbG8P9Dp8gv5hDCe1J1Zjm7JmvD9_5Fd8D9brMYJMrj-qtJ8BZoJDlBeHEK27uT6yEGsHbBD0_rcPoRfvEbi9HgCnsobsbf1P_wT1HpOh1KpJy9wEohBPALK83C3uAA7VZbkJddLtNnn7W4-TxHQf3y3m1nORn0gNOtXDr-nKSa61PbePOBizxgsxKdTicsnpVpvKv_OUXnprYA16WCCEr9PTn3Wop8uYWWW4QRvH2kvCOlPI4Drc-T2qpabNj7XqHSFTR9GG-WEFDHHNAmRYgGMTJQvqauh-F9beo5pk0qf0dj5QiKDHuxYBqIu96byfXWkiN20PQ4U_eDHznx5M7myQVJ8FN7t1RW90R4OH5-5kf5vRBT4a7JD09RToKcWK3h27U4KvKllGVtu_SLjw4i3xvvk3OLFFWMDVHHYPuEIzyXKGGRyGQ6pF472FXOGOxjTyJpsgD-Es5bYTrLPvOdh0Tbm1NCSEJ-YWHu7wGUbPObzmrSMOGCLsD4jmy4ajIUiLHcCp-oLrxG36ugrQ7VL9F_aFqgZl1EeVJk8HAX3f4a7aKy721z-NX_ThQvFA_gDEDfLtAhXvnS-Nhy0e6nONyeVWPnhFz3p4aPm8G-RvU2A\",\"expiry\":\"2021-02-27T09:17:15.5853639+05:30\"}\n",
            "drive_id = b!xkmxNTQvk02boKsnLBjKxFosZvQbZtBCgL0B34hPVyiHfGeNwOpCTIXwHQY9v522\n",
            "drive_type = business\n",
            "--------------------\n",
            "y) Yes this is OK (default)\n",
            "e) Edit this remote\n",
            "d) Delete this remote\n",
            "y/e/d> y\n",
            "Current remotes:\n",
            "\n",
            "Name                 Type\n",
            "====                 ====\n",
            "onedrive             onedrive\n",
            "\n",
            "e) Edit existing remote\n",
            "n) New remote\n",
            "d) Delete remote\n",
            "r) Rename remote\n",
            "c) Copy remote\n",
            "s) Set configuration password\n",
            "q) Quit config\n",
            "e/n/d/r/c/s/q> q\n"
          ],
          "name": "stdout"
        }
      ]
    },
    {
      "cell_type": "markdown",
      "metadata": {
        "id": "gi5Cx03cLWYE"
      },
      "source": [
        "### 3. Mount One Drive\n",
        "To stream files we need to mount One Drive."
      ]
    },
    {
      "cell_type": "code",
      "metadata": {
        "id": "dWSuoVQ-LU4M",
        "colab": {
          "base_uri": "https://localhost:8080/"
        },
        "outputId": "452c0419-7140-4f4d-b15d-53c1b75d216d"
      },
      "source": [
        "!sudo mkdir /content/onedrive\n",
        "!nohup rclone --vfs-cache-mode writes mount onedrive: /content/onedrive &"
      ],
      "execution_count": null,
      "outputs": [
        {
          "output_type": "stream",
          "text": [
            "nohup: appending output to 'nohup.out'\n"
          ],
          "name": "stdout"
        }
      ]
    },
    {
      "cell_type": "code",
      "metadata": {
        "id": "K2go1bWXYxFd"
      },
      "source": [
        "! fusermount -u onedrive"
      ],
      "execution_count": null,
      "outputs": []
    },
    {
      "cell_type": "code",
      "metadata": {
        "id": "5-PMtyTd2cL1"
      },
      "source": [
        "https://mylink.vc/my/call"
      ],
      "execution_count": null,
      "outputs": []
    }
  ]
}